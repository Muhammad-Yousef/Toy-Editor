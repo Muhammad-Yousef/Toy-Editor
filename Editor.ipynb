{
 "cells": [
  {
   "cell_type": "markdown",
   "metadata": {},
   "source": [
    "# Importing Modules"
   ]
  },
  {
   "cell_type": "code",
   "execution_count": 1,
   "metadata": {},
   "outputs": [],
   "source": [
    "from tkinter import *"
   ]
  },
  {
   "cell_type": "code",
   "execution_count": 2,
   "metadata": {},
   "outputs": [],
   "source": [
    "from tkinter.filedialog import *"
   ]
  },
  {
   "cell_type": "markdown",
   "metadata": {},
   "source": [
    "# Defining New/Save/Open Functions"
   ]
  },
  {
   "cell_type": "code",
   "execution_count": 3,
   "metadata": {},
   "outputs": [],
   "source": [
    "filename = None\n",
    "\n",
    "def newFile():\n",
    "    global filename\n",
    "    filename = \"Untitled\"\n",
    "    text.delete(0, 0, END)"
   ]
  },
  {
   "cell_type": "code",
   "execution_count": 4,
   "metadata": {},
   "outputs": [],
   "source": [
    "def saveFile():\n",
    "    global filename\n",
    "    t = text.get(0, 0, END)\n",
    "    f = open(filename, 'w')\n",
    "    f.write(t)\n",
    "    f.close()"
   ]
  },
  {
   "cell_type": "code",
   "execution_count": 5,
   "metadata": {},
   "outputs": [],
   "source": [
    "def saveAs():\n",
    "    f = asksaveasfile(mode = 'w', defaultextension = '.txt')\n",
    "    t = text.get(0, 0, END)\n",
    "    try:\n",
    "        f.write(t.rstrip())\n",
    "    except:\n",
    "        showerror(title = \"Oops!\", message = \"Unable to save file!\")"
   ]
  },
  {
   "cell_type": "code",
   "execution_count": 6,
   "metadata": {},
   "outputs": [],
   "source": [
    "def openFile():\n",
    "    f = askopenfile(mode = 'r')\n",
    "    t = f.read()\n",
    "    text.delete(0, 0, END)\n",
    "    text.insert(0, 0, t)"
   ]
  },
  {
   "cell_type": "markdown",
   "metadata": {},
   "source": [
    "# Layout"
   ]
  },
  {
   "cell_type": "code",
   "execution_count": 7,
   "metadata": {},
   "outputs": [],
   "source": [
    "root = Tk()\n",
    "root.title(\"Toy Editor\")\n",
    "root.minsize(width = 400, height = 400)\n",
    "root.maxsize(width = 400, height = 400)"
   ]
  },
  {
   "cell_type": "code",
   "execution_count": 8,
   "metadata": {},
   "outputs": [],
   "source": [
    "text = Text(root, width = 400, height = 400)\n",
    "text.pack()"
   ]
  },
  {
   "cell_type": "markdown",
   "metadata": {},
   "source": [
    "# Creating Menu-Bar"
   ]
  },
  {
   "cell_type": "code",
   "execution_count": 9,
   "metadata": {},
   "outputs": [],
   "source": [
    "menubar = Menu(root)\n",
    "filemenu = Menu(menubar)\n",
    "filemenu.add_command(label = \"New\", command = newFile)\n",
    "filemenu.add_command(label = \"Open\", command = \"openFile\")\n",
    "filemenu.add_command(label = \"Save\", command = \"saveFile\")\n",
    "filemenu.add_separator()"
   ]
  },
  {
   "cell_type": "code",
   "execution_count": 10,
   "metadata": {},
   "outputs": [],
   "source": [
    "menubar.add_cascade(label = \"File\", menu = filemenu)"
   ]
  },
  {
   "cell_type": "markdown",
   "metadata": {},
   "source": [
    "# Launch!"
   ]
  },
  {
   "cell_type": "code",
   "execution_count": 11,
   "metadata": {},
   "outputs": [],
   "source": [
    "root.config(menu = menubar)\n",
    "root.mainloop()"
   ]
  },
  {
   "cell_type": "code",
   "execution_count": null,
   "metadata": {},
   "outputs": [],
   "source": []
  }
 ],
 "metadata": {
  "kernelspec": {
   "display_name": "Python 3",
   "language": "python",
   "name": "python3"
  },
  "language_info": {
   "codemirror_mode": {
    "name": "ipython",
    "version": 3
   },
   "file_extension": ".py",
   "mimetype": "text/x-python",
   "name": "python",
   "nbconvert_exporter": "python",
   "pygments_lexer": "ipython3",
   "version": "3.7.5"
  }
 },
 "nbformat": 4,
 "nbformat_minor": 4
}
